{
 "cells": [
  {
   "cell_type": "markdown",
   "id": "63b8997f-7ce1-41b6-aae3-34ed513db77e",
   "metadata": {},
   "source": [
    "## Dataset=https://www.kaggle.com/datasets/carrie1/ecommerce-data"
   ]
  },
  {
   "cell_type": "markdown",
   "id": "dae972c5-6e93-4da4-816e-1fc04f7924c4",
   "metadata": {},
   "source": [
    "## Importing Library"
   ]
  },
  {
   "cell_type": "code",
   "execution_count": 242,
   "id": "c76ce488-fe22-4926-9d1c-d8ca593def4b",
   "metadata": {},
   "outputs": [],
   "source": [
    "import pandas as pd\n",
    "\n",
    "data=pd.read_csv(r\"C:\\Users\\DELL\\OneDrive\\Desktop\\example\\learn-python\\learn-python\\Pandas_Practice\\csv_file\\E-Commerce Data.csv\",encoding='ISO-8859-1')"
   ]
  },
  {
   "cell_type": "markdown",
   "id": "330049c0-c3f4-40e3-ab3e-1ebdb508bee7",
   "metadata": {},
   "source": [
    "### ===============================\n",
    "##  Understand the Dataset\n",
    "### ==============================="
   ]
  },
  {
   "cell_type": "markdown",
   "id": "4af0f57c-5fea-4b94-8f92-29aca91f8c49",
   "metadata": {},
   "source": [
    "###  Basic Info: Shape of the dataset — number of rows (transactions) and columns"
   ]
  },
  {
   "cell_type": "code",
   "execution_count": 243,
   "id": "a9a82322-e956-4ca0-93a6-72353d9ba192",
   "metadata": {},
   "outputs": [
    {
     "name": "stdout",
     "output_type": "stream",
     "text": [
      "Dataset Shape (rows, columns): (541909, 8)\n"
     ]
    }
   ],
   "source": [
    "print(\"Dataset Shape (rows, columns):\", data.shape)"
   ]
  },
  {
   "cell_type": "markdown",
   "id": "98e5070b-c635-4a6d-aaab-407ae8d64116",
   "metadata": {},
   "source": [
    "###  Missing Values: Check how many null values exist in each column"
   ]
  },
  {
   "cell_type": "code",
   "execution_count": 244,
   "id": "cb7a7dcd-f77a-4018-ac84-ec2242bae5f1",
   "metadata": {},
   "outputs": [
    {
     "name": "stdout",
     "output_type": "stream",
     "text": [
      "\n",
      "Missing Values per Column:\n",
      "InvoiceNo           0\n",
      "StockCode           0\n",
      "Description      1454\n",
      "Quantity            0\n",
      "InvoiceDate         0\n",
      "UnitPrice           0\n",
      "CustomerID     135080\n",
      "Country             0\n",
      "dtype: int64\n"
     ]
    }
   ],
   "source": [
    "print(\"\\nMissing Values per Column:\")\n",
    "print(data.isnull().sum())"
   ]
  },
  {
   "cell_type": "markdown",
   "id": "96018a20-9295-4e5e-8fdd-91a0a1587b0d",
   "metadata": {},
   "source": [
    "### Duplicate Records: Identify if any duplicate rows exist"
   ]
  },
  {
   "cell_type": "code",
   "execution_count": 245,
   "id": "a6552d4d-4a87-4b48-aa4d-c9e33d24072b",
   "metadata": {},
   "outputs": [
    {
     "name": "stdout",
     "output_type": "stream",
     "text": [
      "\n",
      "Number of Duplicate Records: 5268\n"
     ]
    }
   ],
   "source": [
    "duplicate_count = data.duplicated().sum()\n",
    "print(f\"\\nNumber of Duplicate Records: {duplicate_count}\")"
   ]
  },
  {
   "cell_type": "markdown",
   "id": "efcc9379-af65-4a5f-9c30-a5567b150226",
   "metadata": {},
   "source": [
    "###  Cancelled / Refunded Invoices:\n",
    "### Invoices that start with 'C' represent cancellations"
   ]
  },
  {
   "cell_type": "code",
   "execution_count": 246,
   "id": "dcdbf96b-c46f-4bb7-befe-463d8d458c14",
   "metadata": {},
   "outputs": [
    {
     "name": "stdout",
     "output_type": "stream",
     "text": [
      "\n",
      "Cancelled / Refunded Invoices Preview:\n",
      "    InvoiceNo StockCode                       Description  Quantity  \\\n",
      "141   C536379         D                          Discount        -1   \n",
      "154   C536383    35004C   SET OF 3 COLOURED  FLYING DUCKS        -1   \n",
      "235   C536391     22556    PLASTERS IN TIN CIRCUS PARADE        -12   \n",
      "236   C536391     21984  PACK OF 12 PINK PAISLEY TISSUES        -24   \n",
      "237   C536391     21983  PACK OF 12 BLUE PAISLEY TISSUES        -24   \n",
      "\n",
      "         InvoiceDate  UnitPrice  CustomerID         Country  \n",
      "141   12/1/2010 9:41      27.50     14527.0  United Kingdom  \n",
      "154   12/1/2010 9:49       4.65     15311.0  United Kingdom  \n",
      "235  12/1/2010 10:24       1.65     17548.0  United Kingdom  \n",
      "236  12/1/2010 10:24       0.29     17548.0  United Kingdom  \n",
      "237  12/1/2010 10:24       0.29     17548.0  United Kingdom  \n"
     ]
    }
   ],
   "source": [
    "cancelled_invoices = data[data['InvoiceNo'].str.startswith('C', na=False)]\n",
    "print(\"\\nCancelled / Refunded Invoices Preview:\")\n",
    "print(cancelled_invoices.head())"
   ]
  },
  {
   "cell_type": "markdown",
   "id": "d6674a2b-192e-41df-81cb-8c2af174ecd6",
   "metadata": {},
   "source": [
    "### Count of cancelled transactions"
   ]
  },
  {
   "cell_type": "code",
   "execution_count": 247,
   "id": "119a5663-a376-4694-9874-adb1d231a380",
   "metadata": {},
   "outputs": [
    {
     "name": "stdout",
     "output_type": "stream",
     "text": [
      "\n",
      "Total Cancelled / Refunded Transactions: 9288\n"
     ]
    }
   ],
   "source": [
    "\n",
    "print(\"\\nTotal Cancelled / Refunded Transactions:\", cancelled_invoices.shape[0])\n"
   ]
  },
  {
   "cell_type": "markdown",
   "id": "032f384f-39bd-4366-b4ec-c7a7cfee8d7a",
   "metadata": {},
   "source": [
    "### How many countries are represented?"
   ]
  },
  {
   "cell_type": "code",
   "execution_count": 248,
   "id": "fa639260-b3cb-440c-a0c9-690e2f91fc00",
   "metadata": {},
   "outputs": [
    {
     "name": "stdout",
     "output_type": "stream",
     "text": [
      "Number of countries represented:  38\n"
     ]
    }
   ],
   "source": [
    "no_of_countries=len(data['Country'].unique())\n",
    "print(\"Number of countries represented: \",no_of_countries)"
   ]
  },
  {
   "cell_type": "markdown",
   "id": "fb168f24-2204-46ff-979c-f2137b38b0bc",
   "metadata": {},
   "source": [
    "### How many unique customers and products exist?"
   ]
  },
  {
   "cell_type": "code",
   "execution_count": 249,
   "id": "ce2d668a-aadc-4979-be6b-f7d7511c9514",
   "metadata": {},
   "outputs": [
    {
     "name": "stdout",
     "output_type": "stream",
     "text": [
      "Number of unique customers are: 4373\n",
      "Number of unique products are: 4070\n"
     ]
    }
   ],
   "source": [
    "unique_customers=len(data['CustomerID'].unique())\n",
    "unique_products=len(data['StockCode'].unique())\n",
    "print(f\"Number of unique customers are: {unique_customers}\")\n",
    "print(f\"Number of unique products are: {unique_products}\")\n"
   ]
  },
  {
   "cell_type": "markdown",
   "id": "a9ad083d-c68d-4992-9a4f-105c5b36f715",
   "metadata": {},
   "source": [
    "### ===============================\n",
    "## Data Cleaning\n",
    "### ==============================="
   ]
  },
  {
   "cell_type": "markdown",
   "id": "8efa1884-392f-4462-9210-890539bf78b4",
   "metadata": {},
   "source": [
    "### Remove Duplicates"
   ]
  },
  {
   "cell_type": "code",
   "execution_count": 250,
   "id": "51b071ce-cb98-42dd-9d79-7bbcf8d4d875",
   "metadata": {},
   "outputs": [
    {
     "name": "stdout",
     "output_type": "stream",
     "text": [
      "Number of data left after removing duplicate data 536641\n"
     ]
    }
   ],
   "source": [
    "data.drop_duplicates(inplace=True)\n",
    "print(\"Number of data left after removing duplicate data\",data.shape[0])"
   ]
  },
  {
   "cell_type": "markdown",
   "id": "8a903fa7-fc3a-47ca-8d84-649d3ada4596",
   "metadata": {},
   "source": [
    "### Handle missing CustomerID"
   ]
  },
  {
   "cell_type": "code",
   "execution_count": 251,
   "id": "493b8c6f-b995-42bb-bdf9-7f87d9187d06",
   "metadata": {},
   "outputs": [],
   "source": [
    "data=data.dropna(subset=['CustomerID'])"
   ]
  },
  {
   "cell_type": "markdown",
   "id": "0b0b6316-8e7b-49bd-907f-8467a995d740",
   "metadata": {},
   "source": [
    "### Remove negative quantity or cancelled invoices"
   ]
  },
  {
   "cell_type": "code",
   "execution_count": 252,
   "id": "f04624a2-6b15-4253-8333-a59ebd1c30a3",
   "metadata": {},
   "outputs": [],
   "source": [
    "data=data[data['Quantity']>0]\n",
    "data=data[~data['InvoiceNo'].str.startswith('C', na=False)]"
   ]
  },
  {
   "cell_type": "markdown",
   "id": "23d24705-39aa-41cb-8909-dfae31d615d3",
   "metadata": {},
   "source": [
    "### Ensure date format"
   ]
  },
  {
   "cell_type": "code",
   "execution_count": 253,
   "id": "300263b4-a7e6-4bd4-86cb-ce18ba7700c7",
   "metadata": {},
   "outputs": [],
   "source": [
    "data['InvoiceDate']=pd.to_datetime(data['InvoiceDate'])"
   ]
  },
  {
   "cell_type": "markdown",
   "id": "397b2ff8-ce65-4ac6-82f6-8989d3cd36f0",
   "metadata": {},
   "source": [
    "### Add TotalSales column"
   ]
  },
  {
   "cell_type": "code",
   "execution_count": 254,
   "id": "6cdb05bd-e856-4041-aafa-973a616e412a",
   "metadata": {},
   "outputs": [
    {
     "name": "stdout",
     "output_type": "stream",
     "text": [
      "  InvoiceNo StockCode                          Description  Quantity  \\\n",
      "0    536365    85123A   WHITE HANGING HEART T-LIGHT HOLDER         6   \n",
      "1    536365     71053                  WHITE METAL LANTERN         6   \n",
      "2    536365    84406B       CREAM CUPID HEARTS COAT HANGER         8   \n",
      "3    536365    84029G  KNITTED UNION FLAG HOT WATER BOTTLE         6   \n",
      "4    536365    84029E       RED WOOLLY HOTTIE WHITE HEART.         6   \n",
      "\n",
      "          InvoiceDate  UnitPrice  CustomerID         Country  TotalSales  \n",
      "0 2010-12-01 08:26:00       2.55     17850.0  United Kingdom       15.30  \n",
      "1 2010-12-01 08:26:00       3.39     17850.0  United Kingdom       20.34  \n",
      "2 2010-12-01 08:26:00       2.75     17850.0  United Kingdom       22.00  \n",
      "3 2010-12-01 08:26:00       3.39     17850.0  United Kingdom       20.34  \n",
      "4 2010-12-01 08:26:00       3.39     17850.0  United Kingdom       20.34  \n"
     ]
    }
   ],
   "source": [
    "data['TotalSales']=data['Quantity']*data['UnitPrice']\n",
    "print(data.head())"
   ]
  },
  {
   "cell_type": "markdown",
   "id": "1bf4d4fe-34cc-4792-9936-360baf365163",
   "metadata": {},
   "source": [
    "### ===============================\n",
    "## Key Performance Indicators (KPIs)\n",
    "### ==============================="
   ]
  },
  {
   "cell_type": "markdown",
   "id": "8e8c2cc5-5622-4425-85f1-629d099c5488",
   "metadata": {},
   "source": [
    "### Total Revenue"
   ]
  },
  {
   "cell_type": "code",
   "execution_count": 255,
   "id": "d9d2e6d6-fbfc-4379-9073-6c9948c034a7",
   "metadata": {},
   "outputs": [
    {
     "name": "stdout",
     "output_type": "stream",
     "text": [
      "Total Revenue of the Store: 8887208.894000003\n"
     ]
    }
   ],
   "source": [
    "total_revenue = data['TotalSales'].sum()\n",
    "print(\"Total Revenue of the Store:\", total_revenue)"
   ]
  },
  {
   "cell_type": "markdown",
   "id": "5b29500a-ee7f-4f59-8af0-e0a6aca84981",
   "metadata": {},
   "source": [
    "### Unique Orders"
   ]
  },
  {
   "cell_type": "code",
   "execution_count": 256,
   "id": "d343b9d2-ebd4-49a6-b949-3d41065e793e",
   "metadata": {},
   "outputs": [
    {
     "name": "stdout",
     "output_type": "stream",
     "text": [
      "Total Unique Orders: 18536\n"
     ]
    }
   ],
   "source": [
    "total_orders = data['InvoiceNo'].nunique()\n",
    "print(\"Total Unique Orders:\", total_orders)"
   ]
  },
  {
   "cell_type": "markdown",
   "id": "f0d363e3-9402-4139-852c-9913e15f5afa",
   "metadata": {},
   "source": [
    "### Unique Customers"
   ]
  },
  {
   "cell_type": "code",
   "execution_count": 257,
   "id": "a6b36ce4-a3bb-4b6c-8f65-700c73dc8a96",
   "metadata": {},
   "outputs": [
    {
     "name": "stdout",
     "output_type": "stream",
     "text": [
      "Total Unique Customers: 4339\n"
     ]
    }
   ],
   "source": [
    "unique_customers = data['CustomerID'].nunique()\n",
    "print(\"Total Unique Customers:\", unique_customers)"
   ]
  },
  {
   "cell_type": "markdown",
   "id": "3220477c-f7ce-44f0-8482-e2496a42fd38",
   "metadata": {},
   "source": [
    "### Average Order Value (AOV)"
   ]
  },
  {
   "cell_type": "code",
   "execution_count": 258,
   "id": "71964df4-2408-4522-8b3b-f8f3227c7553",
   "metadata": {},
   "outputs": [
    {
     "name": "stdout",
     "output_type": "stream",
     "text": [
      "Average Order Value (AOV): 479.4566731765214\n"
     ]
    }
   ],
   "source": [
    "order_totals = data.groupby('InvoiceNo')['TotalSales'].sum()  # total revenue per order\n",
    "average_order_value = order_totals.mean()\n",
    "print(\"Average Order Value (AOV):\", average_order_value)"
   ]
  },
  {
   "cell_type": "markdown",
   "id": "2ba43f3a-1651-4118-91d9-5e346f4bd2f8",
   "metadata": {},
   "source": [
    "### Total Items Sold"
   ]
  },
  {
   "cell_type": "code",
   "execution_count": 259,
   "id": "55d907c3-4565-4187-a6cc-dfbadbacda53",
   "metadata": {},
   "outputs": [
    {
     "name": "stdout",
     "output_type": "stream",
     "text": [
      "Total Items Sold: 5165886\n"
     ]
    }
   ],
   "source": [
    "total_items_sold = data['Quantity'].sum()\n",
    "print(\"Total Items Sold:\", total_items_sold)\n"
   ]
  },
  {
   "cell_type": "markdown",
   "id": "360497d3-8bc1-44da-86cd-5bd4a4c83de8",
   "metadata": {},
   "source": [
    "### Return Rate"
   ]
  },
  {
   "cell_type": "code",
   "execution_count": 260,
   "id": "a35ade10-9339-47ae-8ff0-66e388dc13dc",
   "metadata": {},
   "outputs": [
    {
     "name": "stdout",
     "output_type": "stream",
     "text": [
      "Return Rate: 0.20694864048338368\n"
     ]
    }
   ],
   "source": [
    "cancelled_orders_count = cancelled_invoices['InvoiceNo'].nunique()\n",
    "return_rate = cancelled_orders_count / total_orders\n",
    "print(\"Return Rate:\", return_rate)"
   ]
  },
  {
   "cell_type": "markdown",
   "id": "c91eba7b-af62-4163-aab2-45149d8c29b4",
   "metadata": {},
   "source": [
    "### Top 10 Best-Selling Products by Quantity"
   ]
  },
  {
   "cell_type": "code",
   "execution_count": 261,
   "id": "8b872e3d-c65c-4201-b031-fbc228c61464",
   "metadata": {},
   "outputs": [
    {
     "name": "stdout",
     "output_type": "stream",
     "text": [
      "\n",
      "Top 10 Best-Selling Products by Quantity:\n",
      " Description\n",
      "PAPER CRAFT , LITTLE BIRDIE           80995\n",
      "MEDIUM CERAMIC TOP STORAGE JAR        77916\n",
      "WORLD WAR 2 GLIDERS ASSTD DESIGNS     54319\n",
      "JUMBO BAG RED RETROSPOT               46078\n",
      "WHITE HANGING HEART T-LIGHT HOLDER    36706\n",
      "ASSORTED COLOUR BIRD ORNAMENT         35263\n",
      "PACK OF 72 RETROSPOT CAKE CASES       33670\n",
      "POPCORN HOLDER                        30919\n",
      "RABBIT NIGHT LIGHT                    27153\n",
      "MINI PAINT SET VINTAGE                26076\n",
      "Name: Quantity, dtype: int64\n"
     ]
    }
   ],
   "source": [
    "top10_products_qty = (\n",
    "    data.groupby('Description')['Quantity']\n",
    "    .sum()\n",
    "    .sort_values(ascending=False)\n",
    "    .head(10)\n",
    ")\n",
    "print(\"\\nTop 10 Best-Selling Products by Quantity:\\n\", top10_products_qty)"
   ]
  },
  {
   "cell_type": "markdown",
   "id": "79ec79c3-ef54-4960-9ff2-875262754787",
   "metadata": {},
   "source": [
    "### Top 10 Revenue-Generating Products"
   ]
  },
  {
   "cell_type": "code",
   "execution_count": 262,
   "id": "4a7c0ec8-5688-4430-93e0-78336ad1d970",
   "metadata": {},
   "outputs": [
    {
     "name": "stdout",
     "output_type": "stream",
     "text": [
      "\n",
      "Top 10 Revenue-Generating Products:\n",
      " Description\n",
      "PAPER CRAFT , LITTLE BIRDIE           168469.60\n",
      "REGENCY CAKESTAND 3 TIER              142264.75\n",
      "WHITE HANGING HEART T-LIGHT HOLDER    100392.10\n",
      "JUMBO BAG RED RETROSPOT                85040.54\n",
      "MEDIUM CERAMIC TOP STORAGE JAR         81416.73\n",
      "POSTAGE                                77803.96\n",
      "PARTY BUNTING                          68785.23\n",
      "ASSORTED COLOUR BIRD ORNAMENT          56413.03\n",
      "Manual                                 53419.93\n",
      "RABBIT NIGHT LIGHT                     51251.24\n",
      "Name: TotalSales, dtype: float64\n"
     ]
    }
   ],
   "source": [
    "top10_products_revenue = (\n",
    "    data.groupby('Description')['TotalSales']\n",
    "    .sum()\n",
    "    .sort_values(ascending=False)\n",
    "    .head(10)\n",
    ")\n",
    "print(\"\\nTop 10 Revenue-Generating Products:\\n\", top10_products_revenue)"
   ]
  },
  {
   "cell_type": "markdown",
   "id": "a0e43a35-7a51-45fa-a7a3-2701489d3026",
   "metadata": {},
   "source": [
    "### ===============================\n",
    "## Time-Based Trends Analysis\n",
    "### ==============================="
   ]
  },
  {
   "cell_type": "markdown",
   "id": "7954d4de-f58a-4364-b54e-5093549a5fbb",
   "metadata": {},
   "source": [
    "## ---------- Monthly Revenue Analysis ----------"
   ]
  },
  {
   "cell_type": "markdown",
   "id": "62bb8844-7706-49c2-8888-7d5556a0636e",
   "metadata": {},
   "source": [
    "### List of months in calendar order"
   ]
  },
  {
   "cell_type": "code",
   "execution_count": 263,
   "id": "3ebe5d1c-6367-4199-bf61-89e0456245b7",
   "metadata": {},
   "outputs": [],
   "source": [
    "months_order = ['January', 'February', 'March', 'April', 'May', 'June',\n",
    "                'July', 'August', 'September', 'October', 'November', 'December']"
   ]
  },
  {
   "cell_type": "markdown",
   "id": "2ac48cb8-fbb4-4027-be3b-a0444b287126",
   "metadata": {},
   "source": [
    "### Extract month names from invoice dates"
   ]
  },
  {
   "cell_type": "code",
   "execution_count": 264,
   "id": "bda25ea3-22bb-4b4f-91e0-2abbd5e7391d",
   "metadata": {},
   "outputs": [],
   "source": [
    "data['Month'] = data['InvoiceDate'].dt.month_name()"
   ]
  },
  {
   "cell_type": "markdown",
   "id": "3bc2d7e3-2027-423d-afd2-c1603d1efa70",
   "metadata": {},
   "source": [
    "### Convert to categorical type with ordered months"
   ]
  },
  {
   "cell_type": "code",
   "execution_count": 265,
   "id": "6e8943e6-83a5-46b3-970b-05dec0bd1e63",
   "metadata": {},
   "outputs": [],
   "source": [
    "data['Month'] = pd.Categorical(data['Month'], categories=months_order, ordered=True)"
   ]
  },
  {
   "cell_type": "markdown",
   "id": "bc0d04e8-63ab-4bb8-a2cf-c2848010995d",
   "metadata": {},
   "source": [
    "### Group by month and calculate total revenue"
   ]
  },
  {
   "cell_type": "code",
   "execution_count": 266,
   "id": "7375067a-a3e8-47ee-a061-02a8ef19a39b",
   "metadata": {},
   "outputs": [
    {
     "name": "stdout",
     "output_type": "stream",
     "text": [
      "Monthly Revenue:\n",
      " Month\n",
      "January       568101.310\n",
      "February      446084.920\n",
      "March         594081.760\n",
      "April         468374.331\n",
      "May           677355.150\n",
      "June          660046.050\n",
      "July          598962.901\n",
      "August        644051.040\n",
      "September     950690.202\n",
      "October      1035642.450\n",
      "November     1156205.610\n",
      "December     1087613.170\n",
      "Name: TotalSales, dtype: float64\n"
     ]
    },
    {
     "name": "stderr",
     "output_type": "stream",
     "text": [
      "C:\\Users\\DELL\\AppData\\Local\\Temp\\ipykernel_14728\\2340713488.py:1: FutureWarning: The default of observed=False is deprecated and will be changed to True in a future version of pandas. Pass observed=False to retain current behavior or observed=True to adopt the future default and silence this warning.\n",
      "  revenue_months = data.groupby('Month')['TotalSales'].sum()\n"
     ]
    }
   ],
   "source": [
    "revenue_months = data.groupby('Month')['TotalSales'].sum()\n",
    "print(\"Monthly Revenue:\\n\", revenue_months)"
   ]
  },
  {
   "cell_type": "markdown",
   "id": "bd4a34df-8e7d-4dba-affa-2226ce8864dd",
   "metadata": {},
   "source": [
    "### Identify months with highest and lowest sales"
   ]
  },
  {
   "cell_type": "code",
   "execution_count": 267,
   "id": "068ccd0e-749f-4836-ac67-8ef55af5a675",
   "metadata": {},
   "outputs": [
    {
     "name": "stdout",
     "output_type": "stream",
     "text": [
      "\n",
      "Month(s) with Highest Sales:\n",
      " Month\n",
      "November    1156205.61\n",
      "Name: TotalSales, dtype: float64\n",
      "\n",
      "Month(s) with Lowest Sales:\n",
      " Month\n",
      "February    446084.92\n",
      "Name: TotalSales, dtype: float64\n"
     ]
    }
   ],
   "source": [
    "highest_sales_month = revenue_months[revenue_months == revenue_months.max()]\n",
    "lowest_sales_month = revenue_months[revenue_months == revenue_months.min()]\n",
    "print(\"\\nMonth(s) with Highest Sales:\\n\", highest_sales_month)\n",
    "print(\"\\nMonth(s) with Lowest Sales:\\n\", lowest_sales_month)"
   ]
  },
  {
   "cell_type": "markdown",
   "id": "a429fd61-1b86-458f-906a-a20b727be097",
   "metadata": {},
   "source": [
    "## ---------- Weekly Revenue Analysis ----------"
   ]
  },
  {
   "cell_type": "markdown",
   "id": "09ac6609-7e39-44a7-b4b3-4051b5c0a4fe",
   "metadata": {},
   "source": [
    "### List of days in week order"
   ]
  },
  {
   "cell_type": "code",
   "execution_count": 268,
   "id": "6a562bd8-72ca-44dd-9941-9c542f7fe451",
   "metadata": {},
   "outputs": [],
   "source": [
    "days_order = ['Sunday', 'Monday', 'Tuesday', 'Wednesday', 'Thursday', 'Friday', 'Saturday']"
   ]
  },
  {
   "cell_type": "markdown",
   "id": "7891470e-491a-48de-b61f-4646ada932fb",
   "metadata": {},
   "source": [
    "### Extract day names from invoice dates"
   ]
  },
  {
   "cell_type": "code",
   "execution_count": 269,
   "id": "1961c275-2a0c-4853-83f5-1e7f1cd16ae9",
   "metadata": {},
   "outputs": [],
   "source": [
    "data['Day'] = data['InvoiceDate'].dt.day_name()"
   ]
  },
  {
   "cell_type": "markdown",
   "id": "2bef6f7e-5636-4aee-9061-217008a6209d",
   "metadata": {},
   "source": [
    "### Convert to categorical type with ordered days"
   ]
  },
  {
   "cell_type": "code",
   "execution_count": 270,
   "id": "5c85cac8-09ec-4f87-9738-c8bae19d965c",
   "metadata": {},
   "outputs": [],
   "source": [
    "data['Day'] = pd.Categorical(data['Day'], categories=days_order, ordered=True)"
   ]
  },
  {
   "cell_type": "markdown",
   "id": "58836d51-0ae8-4ffd-941a-349ca68ad5fa",
   "metadata": {},
   "source": [
    "### Group by day and calculate total revenue"
   ]
  },
  {
   "cell_type": "code",
   "execution_count": 271,
   "id": "2cb598c4-b81e-40c1-918f-3b72ff94e105",
   "metadata": {},
   "outputs": [
    {
     "name": "stderr",
     "output_type": "stream",
     "text": [
      "C:\\Users\\DELL\\AppData\\Local\\Temp\\ipykernel_14728\\766284772.py:1: FutureWarning: The default of observed=False is deprecated and will be changed to True in a future version of pandas. Pass observed=False to retain current behavior or observed=True to adopt the future default and silence this warning.\n",
      "  revenue_day = data.groupby('Day')['TotalSales'].sum()\n"
     ]
    }
   ],
   "source": [
    "revenue_day = data.groupby('Day')['TotalSales'].sum()"
   ]
  },
  {
   "cell_type": "markdown",
   "id": "fa2d0561-e753-44b4-9a01-c6c1ffb0cbc1",
   "metadata": {},
   "source": [
    "### Identify the busiest day(s)"
   ]
  },
  {
   "cell_type": "code",
   "execution_count": 272,
   "id": "b94f0394-fb94-4487-b928-07eb51505dc7",
   "metadata": {},
   "outputs": [
    {
     "name": "stdout",
     "output_type": "stream",
     "text": [
      "\n",
      "Busiest Day(s) by Revenue:\n",
      " Day\n",
      "Thursday    1973015.73\n",
      "Name: TotalSales, dtype: float64\n"
     ]
    }
   ],
   "source": [
    "busiest_day = revenue_day[revenue_day == revenue_day.max()]\n",
    "print(\"\\nBusiest Day(s) by Revenue:\\n\", busiest_day)\n"
   ]
  },
  {
   "cell_type": "code",
   "execution_count": 273,
   "id": "1fafc110-1e97-4e38-92c4-66d00229833f",
   "metadata": {
    "scrolled": true
   },
   "outputs": [
    {
     "name": "stdout",
     "output_type": "stream",
     "text": [
      "       InvoiceNo StockCode                         Description  Quantity  \\\n",
      "175107    551881     22151           PLACE SETTING WHITE HEART       432   \n",
      "143824    548712     22966       GINGERBREAD MAN COOKIE CUTTER         3   \n",
      "93922     544319     22961              JAM MAKING SET PRINTED        10   \n",
      "407531    571890     23375       50'S CHRISTMAS PAPER GIFT BAG        10   \n",
      "453779    575491     23300  GARDENERS KNEELING PAD CUP OF TEA          3   \n",
      "136134    547937     22566  FELTCRAFT HAIRBAND PINK AND PURPLE         4   \n",
      "475175    576864     23332            IVORY WICKER HEART LARGE         2   \n",
      "438581    574328     21981        PACK OF 12 WOODLAND TISSUES         48   \n",
      "356100    568040     22555           PLASTERS IN TIN STRONGMAN        12   \n",
      "397234    571129     23506        MINI PLAYING CARDS SPACEBOY         20   \n",
      "\n",
      "               InvoiceDate  UnitPrice  CustomerID         Country  TotalSales  \\\n",
      "175107 2011-05-05 09:11:00       0.36     13784.0  United Kingdom      155.52   \n",
      "143824 2011-04-03 14:42:00       1.25     17050.0  United Kingdom        3.75   \n",
      "93922  2011-02-17 15:03:00       1.45     14379.0  United Kingdom       14.50   \n",
      "407531 2011-10-19 14:05:00       0.82     16826.0  United Kingdom        8.20   \n",
      "453779 2011-11-09 17:47:00       1.65     15531.0  United Kingdom        4.95   \n",
      "136134 2011-03-28 14:27:00       0.85     15068.0  United Kingdom        3.40   \n",
      "475175 2011-11-16 16:06:00       1.65     12748.0  United Kingdom        3.30   \n",
      "438581 2011-11-04 09:05:00       0.39     13081.0  United Kingdom       18.72   \n",
      "356100 2011-09-23 12:09:00       1.65     12681.0          France       19.80   \n",
      "397234 2011-10-14 10:03:00       0.42     14156.0            EIRE        8.40   \n",
      "\n",
      "            Month        Day  \n",
      "175107        May   Thursday  \n",
      "143824      April     Sunday  \n",
      "93922    February   Thursday  \n",
      "407531    October  Wednesday  \n",
      "453779   November  Wednesday  \n",
      "136134      March     Monday  \n",
      "475175   November  Wednesday  \n",
      "438581   November     Friday  \n",
      "356100  September     Friday  \n",
      "397234    October     Friday  \n"
     ]
    }
   ],
   "source": [
    "print(data.sample(10))"
   ]
  },
  {
   "cell_type": "markdown",
   "id": "ee65b3db-f461-46fa-b2e9-6d7a93ae780a",
   "metadata": {},
   "source": [
    "### ===============================\n",
    "## Product Performance Analysis\n",
    "### ==============================="
   ]
  },
  {
   "cell_type": "markdown",
   "id": "9baae604-64b8-4a81-9aad-2985e24877bf",
   "metadata": {},
   "source": [
    "### Products that sell the most by quantity"
   ]
  },
  {
   "cell_type": "code",
   "execution_count": 274,
   "id": "c8e21232-fe3a-4ec9-8e3e-28a4bca0af6b",
   "metadata": {},
   "outputs": [
    {
     "name": "stdout",
     "output_type": "stream",
     "text": [
      "Products selling the most by quantity:\n",
      " Description\n",
      "PAPER CRAFT , LITTLE BIRDIE    80995\n",
      "Name: Quantity, dtype: int64 \n",
      "\n"
     ]
    }
   ],
   "source": [
    "product_sell_quantity = data.groupby('Description')['Quantity'].sum()\n",
    "max_quantity = product_sell_quantity.max()\n",
    "top_products_quantity = product_sell_quantity[product_sell_quantity == max_quantity]\n",
    "print(\"Products selling the most by quantity:\\n\", top_products_quantity, \"\\n\")"
   ]
  },
  {
   "cell_type": "markdown",
   "id": "89e69e4b-b704-4ddf-8a50-a22a94c8bb78",
   "metadata": {},
   "source": [
    "### Products that generate the most revenue"
   ]
  },
  {
   "cell_type": "code",
   "execution_count": 275,
   "id": "e59a1eed-bd90-48ad-a770-4a733405da47",
   "metadata": {},
   "outputs": [
    {
     "name": "stdout",
     "output_type": "stream",
     "text": [
      "Products generating the most revenue:\n",
      " Description\n",
      "PAPER CRAFT , LITTLE BIRDIE    168469.6\n",
      "Name: TotalSales, dtype: float64 \n",
      "\n"
     ]
    }
   ],
   "source": [
    "product_revenue_sell = data.groupby('Description')['TotalSales'].sum()\n",
    "max_revenue = product_revenue_sell.max()\n",
    "top_products_revenue = product_revenue_sell[product_revenue_sell == max_revenue]\n",
    "print(\"Products generating the most revenue:\\n\", top_products_revenue, \"\\n\")"
   ]
  },
  {
   "cell_type": "markdown",
   "id": "68338944-1a5e-415b-b071-4557e7e4bcaf",
   "metadata": {},
   "source": [
    "### Products that contribute the least to revenue"
   ]
  },
  {
   "cell_type": "code",
   "execution_count": 276,
   "id": "eb9461e2-50cc-4d0b-9900-d7d59bfa151a",
   "metadata": {
    "jupyter": {
     "source_hidden": true
    }
   },
   "outputs": [
    {
     "name": "stdout",
     "output_type": "stream",
     "text": [
      "Products contributing the least to revenue:\n",
      " Description\n",
      "PADS TO MATCH ALL CUSHIONS    0.003\n",
      "Name: TotalSales, dtype: float64\n"
     ]
    }
   ],
   "source": [
    "min_revenue = product_revenue_sell.min()\n",
    "lowest_products_revenue = product_revenue_sell[product_revenue_sell == min_revenue]\n",
    "print(\"Products contributing the least to revenue:\\n\", lowest_products_revenue)"
   ]
  },
  {
   "cell_type": "markdown",
   "id": "f8691b50-e668-4e2c-8c25-493a3d0d78fa",
   "metadata": {},
   "source": [
    "### ===============================\n",
    "## Customer Analysis\n",
    "### ==============================="
   ]
  },
  {
   "cell_type": "markdown",
   "id": "a1fa5a5b-d37c-4837-812a-8c61a3bdfb6f",
   "metadata": {},
   "source": [
    "### How many unique customers exist?"
   ]
  },
  {
   "cell_type": "code",
   "execution_count": 277,
   "id": "7a2bafac-428f-4c14-b5df-c9239be4da30",
   "metadata": {},
   "outputs": [
    {
     "data": {
      "text/plain": [
       "4339"
      ]
     },
     "execution_count": 277,
     "metadata": {},
     "output_type": "execute_result"
    }
   ],
   "source": [
    "data['CustomerID'].nunique()"
   ]
  },
  {
   "cell_type": "markdown",
   "id": "4a3010d2-6e54-44af-95b1-8030c0f5fb72",
   "metadata": {},
   "source": [
    "### Which countries contribute the most revenue and orders?"
   ]
  },
  {
   "cell_type": "code",
   "execution_count": 278,
   "id": "a36e82b1-a3c0-4be3-820b-3f5ff465063b",
   "metadata": {},
   "outputs": [
    {
     "data": {
      "text/plain": [
       "Country\n",
       "United Kingdom    7285024.644\n",
       "Name: TotalSales, dtype: float64"
      ]
     },
     "execution_count": 278,
     "metadata": {},
     "output_type": "execute_result"
    }
   ],
   "source": [
    "data.groupby('Country')['TotalSales'].sum().sort_values(ascending=False).head(1)"
   ]
  },
  {
   "cell_type": "code",
   "execution_count": 279,
   "id": "4162c33e-199d-41f4-81b7-4e07ee908405",
   "metadata": {},
   "outputs": [
    {
     "data": {
      "text/plain": [
       "Country\n",
       "United Kingdom    16649\n",
       "Name: InvoiceNo, dtype: int64"
      ]
     },
     "execution_count": 279,
     "metadata": {},
     "output_type": "execute_result"
    }
   ],
   "source": [
    "data.groupby('Country')['InvoiceNo'].nunique().sort_values(ascending=False).head(1)"
   ]
  },
  {
   "cell_type": "code",
   "execution_count": 280,
   "id": "30bc4635-b59e-4f3c-b3c2-d916527854fc",
   "metadata": {},
   "outputs": [
    {
     "data": {
      "text/html": [
       "<div>\n",
       "<style scoped>\n",
       "    .dataframe tbody tr th:only-of-type {\n",
       "        vertical-align: middle;\n",
       "    }\n",
       "\n",
       "    .dataframe tbody tr th {\n",
       "        vertical-align: top;\n",
       "    }\n",
       "\n",
       "    .dataframe thead th {\n",
       "        text-align: right;\n",
       "    }\n",
       "</style>\n",
       "<table border=\"1\" class=\"dataframe\">\n",
       "  <thead>\n",
       "    <tr style=\"text-align: right;\">\n",
       "      <th></th>\n",
       "      <th>InvoiceNo</th>\n",
       "      <th>StockCode</th>\n",
       "      <th>Description</th>\n",
       "      <th>Quantity</th>\n",
       "      <th>InvoiceDate</th>\n",
       "      <th>UnitPrice</th>\n",
       "      <th>CustomerID</th>\n",
       "      <th>Country</th>\n",
       "      <th>TotalSales</th>\n",
       "      <th>Month</th>\n",
       "      <th>Day</th>\n",
       "    </tr>\n",
       "  </thead>\n",
       "  <tbody>\n",
       "    <tr>\n",
       "      <th>0</th>\n",
       "      <td>536365</td>\n",
       "      <td>85123A</td>\n",
       "      <td>WHITE HANGING HEART T-LIGHT HOLDER</td>\n",
       "      <td>6</td>\n",
       "      <td>2010-12-01 08:26:00</td>\n",
       "      <td>2.55</td>\n",
       "      <td>17850.0</td>\n",
       "      <td>United Kingdom</td>\n",
       "      <td>15.30</td>\n",
       "      <td>December</td>\n",
       "      <td>Wednesday</td>\n",
       "    </tr>\n",
       "    <tr>\n",
       "      <th>1</th>\n",
       "      <td>536365</td>\n",
       "      <td>71053</td>\n",
       "      <td>WHITE METAL LANTERN</td>\n",
       "      <td>6</td>\n",
       "      <td>2010-12-01 08:26:00</td>\n",
       "      <td>3.39</td>\n",
       "      <td>17850.0</td>\n",
       "      <td>United Kingdom</td>\n",
       "      <td>20.34</td>\n",
       "      <td>December</td>\n",
       "      <td>Wednesday</td>\n",
       "    </tr>\n",
       "    <tr>\n",
       "      <th>2</th>\n",
       "      <td>536365</td>\n",
       "      <td>84406B</td>\n",
       "      <td>CREAM CUPID HEARTS COAT HANGER</td>\n",
       "      <td>8</td>\n",
       "      <td>2010-12-01 08:26:00</td>\n",
       "      <td>2.75</td>\n",
       "      <td>17850.0</td>\n",
       "      <td>United Kingdom</td>\n",
       "      <td>22.00</td>\n",
       "      <td>December</td>\n",
       "      <td>Wednesday</td>\n",
       "    </tr>\n",
       "    <tr>\n",
       "      <th>3</th>\n",
       "      <td>536365</td>\n",
       "      <td>84029G</td>\n",
       "      <td>KNITTED UNION FLAG HOT WATER BOTTLE</td>\n",
       "      <td>6</td>\n",
       "      <td>2010-12-01 08:26:00</td>\n",
       "      <td>3.39</td>\n",
       "      <td>17850.0</td>\n",
       "      <td>United Kingdom</td>\n",
       "      <td>20.34</td>\n",
       "      <td>December</td>\n",
       "      <td>Wednesday</td>\n",
       "    </tr>\n",
       "    <tr>\n",
       "      <th>4</th>\n",
       "      <td>536365</td>\n",
       "      <td>84029E</td>\n",
       "      <td>RED WOOLLY HOTTIE WHITE HEART.</td>\n",
       "      <td>6</td>\n",
       "      <td>2010-12-01 08:26:00</td>\n",
       "      <td>3.39</td>\n",
       "      <td>17850.0</td>\n",
       "      <td>United Kingdom</td>\n",
       "      <td>20.34</td>\n",
       "      <td>December</td>\n",
       "      <td>Wednesday</td>\n",
       "    </tr>\n",
       "    <tr>\n",
       "      <th>5</th>\n",
       "      <td>536365</td>\n",
       "      <td>22752</td>\n",
       "      <td>SET 7 BABUSHKA NESTING BOXES</td>\n",
       "      <td>2</td>\n",
       "      <td>2010-12-01 08:26:00</td>\n",
       "      <td>7.65</td>\n",
       "      <td>17850.0</td>\n",
       "      <td>United Kingdom</td>\n",
       "      <td>15.30</td>\n",
       "      <td>December</td>\n",
       "      <td>Wednesday</td>\n",
       "    </tr>\n",
       "    <tr>\n",
       "      <th>6</th>\n",
       "      <td>536365</td>\n",
       "      <td>21730</td>\n",
       "      <td>GLASS STAR FROSTED T-LIGHT HOLDER</td>\n",
       "      <td>6</td>\n",
       "      <td>2010-12-01 08:26:00</td>\n",
       "      <td>4.25</td>\n",
       "      <td>17850.0</td>\n",
       "      <td>United Kingdom</td>\n",
       "      <td>25.50</td>\n",
       "      <td>December</td>\n",
       "      <td>Wednesday</td>\n",
       "    </tr>\n",
       "    <tr>\n",
       "      <th>7</th>\n",
       "      <td>536366</td>\n",
       "      <td>22633</td>\n",
       "      <td>HAND WARMER UNION JACK</td>\n",
       "      <td>6</td>\n",
       "      <td>2010-12-01 08:28:00</td>\n",
       "      <td>1.85</td>\n",
       "      <td>17850.0</td>\n",
       "      <td>United Kingdom</td>\n",
       "      <td>11.10</td>\n",
       "      <td>December</td>\n",
       "      <td>Wednesday</td>\n",
       "    </tr>\n",
       "    <tr>\n",
       "      <th>8</th>\n",
       "      <td>536366</td>\n",
       "      <td>22632</td>\n",
       "      <td>HAND WARMER RED POLKA DOT</td>\n",
       "      <td>6</td>\n",
       "      <td>2010-12-01 08:28:00</td>\n",
       "      <td>1.85</td>\n",
       "      <td>17850.0</td>\n",
       "      <td>United Kingdom</td>\n",
       "      <td>11.10</td>\n",
       "      <td>December</td>\n",
       "      <td>Wednesday</td>\n",
       "    </tr>\n",
       "    <tr>\n",
       "      <th>9</th>\n",
       "      <td>536367</td>\n",
       "      <td>84879</td>\n",
       "      <td>ASSORTED COLOUR BIRD ORNAMENT</td>\n",
       "      <td>32</td>\n",
       "      <td>2010-12-01 08:34:00</td>\n",
       "      <td>1.69</td>\n",
       "      <td>13047.0</td>\n",
       "      <td>United Kingdom</td>\n",
       "      <td>54.08</td>\n",
       "      <td>December</td>\n",
       "      <td>Wednesday</td>\n",
       "    </tr>\n",
       "  </tbody>\n",
       "</table>\n",
       "</div>"
      ],
      "text/plain": [
       "  InvoiceNo StockCode                          Description  Quantity  \\\n",
       "0    536365    85123A   WHITE HANGING HEART T-LIGHT HOLDER         6   \n",
       "1    536365     71053                  WHITE METAL LANTERN         6   \n",
       "2    536365    84406B       CREAM CUPID HEARTS COAT HANGER         8   \n",
       "3    536365    84029G  KNITTED UNION FLAG HOT WATER BOTTLE         6   \n",
       "4    536365    84029E       RED WOOLLY HOTTIE WHITE HEART.         6   \n",
       "5    536365     22752         SET 7 BABUSHKA NESTING BOXES         2   \n",
       "6    536365     21730    GLASS STAR FROSTED T-LIGHT HOLDER         6   \n",
       "7    536366     22633               HAND WARMER UNION JACK         6   \n",
       "8    536366     22632            HAND WARMER RED POLKA DOT         6   \n",
       "9    536367     84879        ASSORTED COLOUR BIRD ORNAMENT        32   \n",
       "\n",
       "          InvoiceDate  UnitPrice  CustomerID         Country  TotalSales  \\\n",
       "0 2010-12-01 08:26:00       2.55     17850.0  United Kingdom       15.30   \n",
       "1 2010-12-01 08:26:00       3.39     17850.0  United Kingdom       20.34   \n",
       "2 2010-12-01 08:26:00       2.75     17850.0  United Kingdom       22.00   \n",
       "3 2010-12-01 08:26:00       3.39     17850.0  United Kingdom       20.34   \n",
       "4 2010-12-01 08:26:00       3.39     17850.0  United Kingdom       20.34   \n",
       "5 2010-12-01 08:26:00       7.65     17850.0  United Kingdom       15.30   \n",
       "6 2010-12-01 08:26:00       4.25     17850.0  United Kingdom       25.50   \n",
       "7 2010-12-01 08:28:00       1.85     17850.0  United Kingdom       11.10   \n",
       "8 2010-12-01 08:28:00       1.85     17850.0  United Kingdom       11.10   \n",
       "9 2010-12-01 08:34:00       1.69     13047.0  United Kingdom       54.08   \n",
       "\n",
       "      Month        Day  \n",
       "0  December  Wednesday  \n",
       "1  December  Wednesday  \n",
       "2  December  Wednesday  \n",
       "3  December  Wednesday  \n",
       "4  December  Wednesday  \n",
       "5  December  Wednesday  \n",
       "6  December  Wednesday  \n",
       "7  December  Wednesday  \n",
       "8  December  Wednesday  \n",
       "9  December  Wednesday  "
      ]
     },
     "execution_count": 280,
     "metadata": {},
     "output_type": "execute_result"
    }
   ],
   "source": [
    "data.head(10)"
   ]
  },
  {
   "cell_type": "markdown",
   "id": "3feeae86-d953-4e75-8c13-9fc74d0cf7a9",
   "metadata": {},
   "source": [
    "### What is the average purchase frequency per customer?"
   ]
  },
  {
   "cell_type": "code",
   "execution_count": 281,
   "id": "50f5488f-3ea7-45a6-9561-2ef553fe0f9d",
   "metadata": {},
   "outputs": [
    {
     "data": {
      "text/plain": [
       "np.float64(4.271952062687255)"
      ]
     },
     "execution_count": 281,
     "metadata": {},
     "output_type": "execute_result"
    }
   ],
   "source": [
    "data.groupby('CustomerID')['InvoiceNo'].nunique().mean()"
   ]
  },
  {
   "cell_type": "markdown",
   "id": "36866d0e-4b1e-4031-adc4-933c98d063b6",
   "metadata": {},
   "source": [
    "### Who are the top 10 customers by total spending?"
   ]
  },
  {
   "cell_type": "code",
   "execution_count": 282,
   "id": "99a114ea-3a77-4370-a7bb-eba76601c830",
   "metadata": {},
   "outputs": [
    {
     "data": {
      "text/plain": [
       "CustomerID\n",
       "14646.0    280206.02\n",
       "18102.0    259657.30\n",
       "17450.0    194390.79\n",
       "16446.0    168472.50\n",
       "14911.0    143711.17\n",
       "12415.0    124914.53\n",
       "14156.0    117210.08\n",
       "17511.0     91062.38\n",
       "16029.0     80850.84\n",
       "12346.0     77183.60\n",
       "Name: TotalSales, dtype: float64"
      ]
     },
     "execution_count": 282,
     "metadata": {},
     "output_type": "execute_result"
    }
   ],
   "source": [
    "data.groupby('CustomerID')['TotalSales'].sum().sort_values(ascending=False).head(10)"
   ]
  },
  {
   "cell_type": "markdown",
   "id": "ec996fd1-318d-455b-922a-cbdff2dbeaf0",
   "metadata": {},
   "source": [
    "### How long has it been since each customer’s last purchase (recency)?"
   ]
  },
  {
   "cell_type": "code",
   "execution_count": 283,
   "id": "e3bb9771-c138-4a99-878b-fe339c725c20",
   "metadata": {},
   "outputs": [
    {
     "name": "stdout",
     "output_type": "stream",
     "text": [
      "Recency for each customer (in days):\n",
      "CustomerID\n",
      "12346.0    326\n",
      "12347.0      2\n",
      "12348.0     75\n",
      "12349.0     19\n",
      "12350.0    310\n",
      "          ... \n",
      "18280.0    278\n",
      "18281.0    181\n",
      "18282.0      8\n",
      "18283.0      4\n",
      "18287.0     43\n",
      "Name: InvoiceDate, Length: 4339, dtype: int64\n"
     ]
    }
   ],
   "source": [
    "# Set a snapshot date (day after the last transaction in the dataset)\n",
    "snapshot_date = data['InvoiceDate'].max() + pd.Timedelta(days=1)\n",
    "\n",
    "# Calculate the recency for each customer\n",
    "recency = snapshot_date - data.groupby('CustomerID')['InvoiceDate'].max()\n",
    "\n",
    "# Extract the number of days from the result\n",
    "recency_days = recency.dt.days\n",
    "\n",
    "print(\"Recency for each customer (in days):\")\n",
    "print(recency_days)"
   ]
  },
  {
   "cell_type": "markdown",
   "id": "2b9c42f0-c897-4622-b458-8dd61a7d4ac8",
   "metadata": {},
   "source": [
    "### Can customers be grouped as loyal, frequent, or one-time buyers?"
   ]
  },
  {
   "cell_type": "code",
   "execution_count": 284,
   "id": "c4b006ad-7ee3-4a4c-9433-0d3fdbaa1ada",
   "metadata": {},
   "outputs": [],
   "source": [
    "def categorize_customer(count):\n",
    "    if count > 5000:\n",
    "        return 'loyal'\n",
    "    elif count == 1:\n",
    "        return 'one-time buyer'\n",
    "    else:\n",
    "        return 'frequent'"
   ]
  },
  {
   "cell_type": "code",
   "execution_count": 285,
   "id": "6033970f-fca7-4afe-9cde-a7b35bc9f5c9",
   "metadata": {},
   "outputs": [],
   "source": [
    "customer_segments=data['CustomerID'].value_counts().apply(categorize_customer)\n",
    "data['Category']=data['CustomerID'].map(customer_segments)"
   ]
  },
  {
   "cell_type": "code",
   "execution_count": 286,
   "id": "ba3a573b-6427-4ed9-845a-2dc6e940e800",
   "metadata": {},
   "outputs": [
    {
     "data": {
      "text/html": [
       "<div>\n",
       "<style scoped>\n",
       "    .dataframe tbody tr th:only-of-type {\n",
       "        vertical-align: middle;\n",
       "    }\n",
       "\n",
       "    .dataframe tbody tr th {\n",
       "        vertical-align: top;\n",
       "    }\n",
       "\n",
       "    .dataframe thead th {\n",
       "        text-align: right;\n",
       "    }\n",
       "</style>\n",
       "<table border=\"1\" class=\"dataframe\">\n",
       "  <thead>\n",
       "    <tr style=\"text-align: right;\">\n",
       "      <th></th>\n",
       "      <th>InvoiceNo</th>\n",
       "      <th>StockCode</th>\n",
       "      <th>Description</th>\n",
       "      <th>Quantity</th>\n",
       "      <th>InvoiceDate</th>\n",
       "      <th>UnitPrice</th>\n",
       "      <th>CustomerID</th>\n",
       "      <th>Country</th>\n",
       "      <th>TotalSales</th>\n",
       "      <th>Month</th>\n",
       "      <th>Day</th>\n",
       "      <th>Category</th>\n",
       "    </tr>\n",
       "  </thead>\n",
       "  <tbody>\n",
       "    <tr>\n",
       "      <th>529539</th>\n",
       "      <td>580733</td>\n",
       "      <td>21115</td>\n",
       "      <td>ROSE CARAVAN DOORSTOP</td>\n",
       "      <td>8</td>\n",
       "      <td>2011-12-06 08:37:00</td>\n",
       "      <td>1.95</td>\n",
       "      <td>16929.0</td>\n",
       "      <td>United Kingdom</td>\n",
       "      <td>15.60</td>\n",
       "      <td>December</td>\n",
       "      <td>Tuesday</td>\n",
       "      <td>frequent</td>\n",
       "    </tr>\n",
       "    <tr>\n",
       "      <th>102184</th>\n",
       "      <td>544970</td>\n",
       "      <td>22457</td>\n",
       "      <td>NATURAL SLATE HEART CHALKBOARD</td>\n",
       "      <td>6</td>\n",
       "      <td>2011-02-25 11:33:00</td>\n",
       "      <td>2.95</td>\n",
       "      <td>13362.0</td>\n",
       "      <td>United Kingdom</td>\n",
       "      <td>17.70</td>\n",
       "      <td>February</td>\n",
       "      <td>Friday</td>\n",
       "      <td>frequent</td>\n",
       "    </tr>\n",
       "    <tr>\n",
       "      <th>176990</th>\n",
       "      <td>552039</td>\n",
       "      <td>20727</td>\n",
       "      <td>LUNCH BAG  BLACK SKULL.</td>\n",
       "      <td>20</td>\n",
       "      <td>2011-05-06 08:10:00</td>\n",
       "      <td>1.65</td>\n",
       "      <td>13081.0</td>\n",
       "      <td>United Kingdom</td>\n",
       "      <td>33.00</td>\n",
       "      <td>May</td>\n",
       "      <td>Friday</td>\n",
       "      <td>frequent</td>\n",
       "    </tr>\n",
       "    <tr>\n",
       "      <th>497234</th>\n",
       "      <td>578353</td>\n",
       "      <td>22694</td>\n",
       "      <td>WICKER STAR</td>\n",
       "      <td>6</td>\n",
       "      <td>2011-11-24 10:07:00</td>\n",
       "      <td>2.10</td>\n",
       "      <td>14825.0</td>\n",
       "      <td>United Kingdom</td>\n",
       "      <td>12.60</td>\n",
       "      <td>November</td>\n",
       "      <td>Thursday</td>\n",
       "      <td>frequent</td>\n",
       "    </tr>\n",
       "    <tr>\n",
       "      <th>530575</th>\n",
       "      <td>580875</td>\n",
       "      <td>22915</td>\n",
       "      <td>ASSORTED BOTTLE TOP  MAGNETS</td>\n",
       "      <td>96</td>\n",
       "      <td>2011-12-06 12:11:00</td>\n",
       "      <td>0.19</td>\n",
       "      <td>17744.0</td>\n",
       "      <td>United Kingdom</td>\n",
       "      <td>18.24</td>\n",
       "      <td>December</td>\n",
       "      <td>Tuesday</td>\n",
       "      <td>frequent</td>\n",
       "    </tr>\n",
       "    <tr>\n",
       "      <th>151016</th>\n",
       "      <td>549526</td>\n",
       "      <td>20847</td>\n",
       "      <td>ZINC HEART LATTICE CHARGER LARGE</td>\n",
       "      <td>4</td>\n",
       "      <td>2011-04-08 15:49:00</td>\n",
       "      <td>3.75</td>\n",
       "      <td>13630.0</td>\n",
       "      <td>United Kingdom</td>\n",
       "      <td>15.00</td>\n",
       "      <td>April</td>\n",
       "      <td>Friday</td>\n",
       "      <td>frequent</td>\n",
       "    </tr>\n",
       "    <tr>\n",
       "      <th>403906</th>\n",
       "      <td>571656</td>\n",
       "      <td>22367</td>\n",
       "      <td>CHILDRENS APRON SPACEBOY DESIGN</td>\n",
       "      <td>1</td>\n",
       "      <td>2011-10-18 12:43:00</td>\n",
       "      <td>1.95</td>\n",
       "      <td>16393.0</td>\n",
       "      <td>United Kingdom</td>\n",
       "      <td>1.95</td>\n",
       "      <td>October</td>\n",
       "      <td>Tuesday</td>\n",
       "      <td>frequent</td>\n",
       "    </tr>\n",
       "    <tr>\n",
       "      <th>133095</th>\n",
       "      <td>547722</td>\n",
       "      <td>20724</td>\n",
       "      <td>RED RETROSPOT CHARLOTTE BAG</td>\n",
       "      <td>10</td>\n",
       "      <td>2011-03-25 10:19:00</td>\n",
       "      <td>0.85</td>\n",
       "      <td>12553.0</td>\n",
       "      <td>France</td>\n",
       "      <td>8.50</td>\n",
       "      <td>March</td>\n",
       "      <td>Friday</td>\n",
       "      <td>frequent</td>\n",
       "    </tr>\n",
       "    <tr>\n",
       "      <th>480297</th>\n",
       "      <td>577297</td>\n",
       "      <td>23203</td>\n",
       "      <td>JUMBO BAG VINTAGE DOILY</td>\n",
       "      <td>1</td>\n",
       "      <td>2011-11-18 12:48:00</td>\n",
       "      <td>2.08</td>\n",
       "      <td>14593.0</td>\n",
       "      <td>United Kingdom</td>\n",
       "      <td>2.08</td>\n",
       "      <td>November</td>\n",
       "      <td>Friday</td>\n",
       "      <td>frequent</td>\n",
       "    </tr>\n",
       "    <tr>\n",
       "      <th>55377</th>\n",
       "      <td>540992</td>\n",
       "      <td>22955</td>\n",
       "      <td>36 FOIL STAR CAKE CASES</td>\n",
       "      <td>1</td>\n",
       "      <td>2011-01-12 16:57:00</td>\n",
       "      <td>2.10</td>\n",
       "      <td>17364.0</td>\n",
       "      <td>United Kingdom</td>\n",
       "      <td>2.10</td>\n",
       "      <td>January</td>\n",
       "      <td>Wednesday</td>\n",
       "      <td>frequent</td>\n",
       "    </tr>\n",
       "    <tr>\n",
       "      <th>373068</th>\n",
       "      <td>569261</td>\n",
       "      <td>22965</td>\n",
       "      <td>3 TRADITIONAl BISCUIT CUTTERS  SET</td>\n",
       "      <td>2</td>\n",
       "      <td>2011-10-03 11:34:00</td>\n",
       "      <td>2.10</td>\n",
       "      <td>17321.0</td>\n",
       "      <td>United Kingdom</td>\n",
       "      <td>4.20</td>\n",
       "      <td>October</td>\n",
       "      <td>Monday</td>\n",
       "      <td>frequent</td>\n",
       "    </tr>\n",
       "    <tr>\n",
       "      <th>399025</th>\n",
       "      <td>571269</td>\n",
       "      <td>47566</td>\n",
       "      <td>PARTY BUNTING</td>\n",
       "      <td>3</td>\n",
       "      <td>2011-10-16 12:09:00</td>\n",
       "      <td>4.95</td>\n",
       "      <td>16243.0</td>\n",
       "      <td>United Kingdom</td>\n",
       "      <td>14.85</td>\n",
       "      <td>October</td>\n",
       "      <td>Sunday</td>\n",
       "      <td>frequent</td>\n",
       "    </tr>\n",
       "    <tr>\n",
       "      <th>487612</th>\n",
       "      <td>577773</td>\n",
       "      <td>23104</td>\n",
       "      <td>IVORY CAFE HANGING LAMP</td>\n",
       "      <td>3</td>\n",
       "      <td>2011-11-21 15:57:00</td>\n",
       "      <td>12.50</td>\n",
       "      <td>16712.0</td>\n",
       "      <td>United Kingdom</td>\n",
       "      <td>37.50</td>\n",
       "      <td>November</td>\n",
       "      <td>Monday</td>\n",
       "      <td>frequent</td>\n",
       "    </tr>\n",
       "    <tr>\n",
       "      <th>478501</th>\n",
       "      <td>577086</td>\n",
       "      <td>23354</td>\n",
       "      <td>6 GIFT TAGS 50'S CHRISTMAS</td>\n",
       "      <td>12</td>\n",
       "      <td>2011-11-17 15:50:00</td>\n",
       "      <td>0.83</td>\n",
       "      <td>16070.0</td>\n",
       "      <td>United Kingdom</td>\n",
       "      <td>9.96</td>\n",
       "      <td>November</td>\n",
       "      <td>Thursday</td>\n",
       "      <td>frequent</td>\n",
       "    </tr>\n",
       "    <tr>\n",
       "      <th>382380</th>\n",
       "      <td>569900</td>\n",
       "      <td>22144</td>\n",
       "      <td>CHRISTMAS CRAFT LITTLE FRIENDS</td>\n",
       "      <td>6</td>\n",
       "      <td>2011-10-06 16:17:00</td>\n",
       "      <td>2.10</td>\n",
       "      <td>17651.0</td>\n",
       "      <td>United Kingdom</td>\n",
       "      <td>12.60</td>\n",
       "      <td>October</td>\n",
       "      <td>Thursday</td>\n",
       "      <td>frequent</td>\n",
       "    </tr>\n",
       "    <tr>\n",
       "      <th>130988</th>\n",
       "      <td>547538</td>\n",
       "      <td>85099C</td>\n",
       "      <td>JUMBO  BAG BAROQUE BLACK WHITE</td>\n",
       "      <td>10</td>\n",
       "      <td>2011-03-23 15:17:00</td>\n",
       "      <td>1.95</td>\n",
       "      <td>13534.0</td>\n",
       "      <td>United Kingdom</td>\n",
       "      <td>19.50</td>\n",
       "      <td>March</td>\n",
       "      <td>Wednesday</td>\n",
       "      <td>frequent</td>\n",
       "    </tr>\n",
       "    <tr>\n",
       "      <th>101524</th>\n",
       "      <td>544924</td>\n",
       "      <td>22749</td>\n",
       "      <td>FELTCRAFT PRINCESS CHARLOTTE DOLL</td>\n",
       "      <td>4</td>\n",
       "      <td>2011-02-24 17:18:00</td>\n",
       "      <td>3.75</td>\n",
       "      <td>13851.0</td>\n",
       "      <td>United Kingdom</td>\n",
       "      <td>15.00</td>\n",
       "      <td>February</td>\n",
       "      <td>Thursday</td>\n",
       "      <td>frequent</td>\n",
       "    </tr>\n",
       "    <tr>\n",
       "      <th>267552</th>\n",
       "      <td>560302</td>\n",
       "      <td>82484</td>\n",
       "      <td>WOOD BLACK BOARD ANT WHITE FINISH</td>\n",
       "      <td>6</td>\n",
       "      <td>2011-07-18 10:43:00</td>\n",
       "      <td>7.95</td>\n",
       "      <td>14397.0</td>\n",
       "      <td>United Kingdom</td>\n",
       "      <td>47.70</td>\n",
       "      <td>July</td>\n",
       "      <td>Monday</td>\n",
       "      <td>frequent</td>\n",
       "    </tr>\n",
       "    <tr>\n",
       "      <th>503679</th>\n",
       "      <td>578931</td>\n",
       "      <td>22274</td>\n",
       "      <td>FELTCRAFT DOLL EMILY</td>\n",
       "      <td>1</td>\n",
       "      <td>2011-11-27 12:40:00</td>\n",
       "      <td>2.95</td>\n",
       "      <td>16942.0</td>\n",
       "      <td>United Kingdom</td>\n",
       "      <td>2.95</td>\n",
       "      <td>November</td>\n",
       "      <td>Sunday</td>\n",
       "      <td>frequent</td>\n",
       "    </tr>\n",
       "    <tr>\n",
       "      <th>103848</th>\n",
       "      <td>545079</td>\n",
       "      <td>22168</td>\n",
       "      <td>ORGANISER WOOD ANTIQUE WHITE</td>\n",
       "      <td>1</td>\n",
       "      <td>2011-02-28 10:30:00</td>\n",
       "      <td>8.50</td>\n",
       "      <td>18283.0</td>\n",
       "      <td>United Kingdom</td>\n",
       "      <td>8.50</td>\n",
       "      <td>February</td>\n",
       "      <td>Monday</td>\n",
       "      <td>frequent</td>\n",
       "    </tr>\n",
       "  </tbody>\n",
       "</table>\n",
       "</div>"
      ],
      "text/plain": [
       "       InvoiceNo StockCode                         Description  Quantity  \\\n",
       "529539    580733     21115               ROSE CARAVAN DOORSTOP         8   \n",
       "102184    544970     22457     NATURAL SLATE HEART CHALKBOARD          6   \n",
       "176990    552039     20727             LUNCH BAG  BLACK SKULL.        20   \n",
       "497234    578353     22694                        WICKER STAR          6   \n",
       "530575    580875     22915       ASSORTED BOTTLE TOP  MAGNETS         96   \n",
       "151016    549526     20847    ZINC HEART LATTICE CHARGER LARGE         4   \n",
       "403906    571656     22367     CHILDRENS APRON SPACEBOY DESIGN         1   \n",
       "133095    547722     20724         RED RETROSPOT CHARLOTTE BAG        10   \n",
       "480297    577297     23203            JUMBO BAG VINTAGE DOILY          1   \n",
       "55377     540992     22955            36 FOIL STAR CAKE CASES          1   \n",
       "373068    569261     22965  3 TRADITIONAl BISCUIT CUTTERS  SET         2   \n",
       "399025    571269     47566                       PARTY BUNTING         3   \n",
       "487612    577773     23104            IVORY CAFE HANGING LAMP          3   \n",
       "478501    577086     23354         6 GIFT TAGS 50'S CHRISTMAS         12   \n",
       "382380    569900     22144      CHRISTMAS CRAFT LITTLE FRIENDS         6   \n",
       "130988    547538    85099C      JUMBO  BAG BAROQUE BLACK WHITE        10   \n",
       "101524    544924     22749   FELTCRAFT PRINCESS CHARLOTTE DOLL         4   \n",
       "267552    560302     82484   WOOD BLACK BOARD ANT WHITE FINISH         6   \n",
       "503679    578931     22274                FELTCRAFT DOLL EMILY         1   \n",
       "103848    545079     22168       ORGANISER WOOD ANTIQUE WHITE          1   \n",
       "\n",
       "               InvoiceDate  UnitPrice  CustomerID         Country  TotalSales  \\\n",
       "529539 2011-12-06 08:37:00       1.95     16929.0  United Kingdom       15.60   \n",
       "102184 2011-02-25 11:33:00       2.95     13362.0  United Kingdom       17.70   \n",
       "176990 2011-05-06 08:10:00       1.65     13081.0  United Kingdom       33.00   \n",
       "497234 2011-11-24 10:07:00       2.10     14825.0  United Kingdom       12.60   \n",
       "530575 2011-12-06 12:11:00       0.19     17744.0  United Kingdom       18.24   \n",
       "151016 2011-04-08 15:49:00       3.75     13630.0  United Kingdom       15.00   \n",
       "403906 2011-10-18 12:43:00       1.95     16393.0  United Kingdom        1.95   \n",
       "133095 2011-03-25 10:19:00       0.85     12553.0          France        8.50   \n",
       "480297 2011-11-18 12:48:00       2.08     14593.0  United Kingdom        2.08   \n",
       "55377  2011-01-12 16:57:00       2.10     17364.0  United Kingdom        2.10   \n",
       "373068 2011-10-03 11:34:00       2.10     17321.0  United Kingdom        4.20   \n",
       "399025 2011-10-16 12:09:00       4.95     16243.0  United Kingdom       14.85   \n",
       "487612 2011-11-21 15:57:00      12.50     16712.0  United Kingdom       37.50   \n",
       "478501 2011-11-17 15:50:00       0.83     16070.0  United Kingdom        9.96   \n",
       "382380 2011-10-06 16:17:00       2.10     17651.0  United Kingdom       12.60   \n",
       "130988 2011-03-23 15:17:00       1.95     13534.0  United Kingdom       19.50   \n",
       "101524 2011-02-24 17:18:00       3.75     13851.0  United Kingdom       15.00   \n",
       "267552 2011-07-18 10:43:00       7.95     14397.0  United Kingdom       47.70   \n",
       "503679 2011-11-27 12:40:00       2.95     16942.0  United Kingdom        2.95   \n",
       "103848 2011-02-28 10:30:00       8.50     18283.0  United Kingdom        8.50   \n",
       "\n",
       "           Month        Day  Category  \n",
       "529539  December    Tuesday  frequent  \n",
       "102184  February     Friday  frequent  \n",
       "176990       May     Friday  frequent  \n",
       "497234  November   Thursday  frequent  \n",
       "530575  December    Tuesday  frequent  \n",
       "151016     April     Friday  frequent  \n",
       "403906   October    Tuesday  frequent  \n",
       "133095     March     Friday  frequent  \n",
       "480297  November     Friday  frequent  \n",
       "55377    January  Wednesday  frequent  \n",
       "373068   October     Monday  frequent  \n",
       "399025   October     Sunday  frequent  \n",
       "487612  November     Monday  frequent  \n",
       "478501  November   Thursday  frequent  \n",
       "382380   October   Thursday  frequent  \n",
       "130988     March  Wednesday  frequent  \n",
       "101524  February   Thursday  frequent  \n",
       "267552      July     Monday  frequent  \n",
       "503679  November     Sunday  frequent  \n",
       "103848  February     Monday  frequent  "
      ]
     },
     "execution_count": 286,
     "metadata": {},
     "output_type": "execute_result"
    }
   ],
   "source": [
    "data.sample(20)"
   ]
  },
  {
   "cell_type": "code",
   "execution_count": null,
   "id": "af27c07f-abb0-4882-9f23-224d04ff288b",
   "metadata": {},
   "outputs": [],
   "source": []
  },
  {
   "cell_type": "code",
   "execution_count": null,
   "id": "26da3dbe-f97e-4619-9793-1964c853f64a",
   "metadata": {},
   "outputs": [],
   "source": []
  },
  {
   "cell_type": "code",
   "execution_count": null,
   "id": "c9e55d3f-5a37-42c9-b860-3abf3de9678c",
   "metadata": {},
   "outputs": [],
   "source": []
  }
 ],
 "metadata": {
  "kernelspec": {
   "display_name": "Python [conda env:base] *",
   "language": "python",
   "name": "conda-base-py"
  },
  "language_info": {
   "codemirror_mode": {
    "name": "ipython",
    "version": 3
   },
   "file_extension": ".py",
   "mimetype": "text/x-python",
   "name": "python",
   "nbconvert_exporter": "python",
   "pygments_lexer": "ipython3",
   "version": "3.13.5"
  }
 },
 "nbformat": 4,
 "nbformat_minor": 5
}
